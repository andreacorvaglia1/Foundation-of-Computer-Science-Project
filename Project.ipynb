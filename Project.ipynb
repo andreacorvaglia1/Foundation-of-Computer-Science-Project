{
 "cells": [
  {
   "cell_type": "markdown",
   "metadata": {},
   "source": [
    "# Progetto di Foundation of Computer Science\n",
    "\n",
    "## Autore: Andrea Corvaglia \n",
    "### Matricola : 802487"
   ]
  },
  {
   "cell_type": "markdown",
   "metadata": {},
   "source": [
    "## Esercizio 1"
   ]
  },
  {
   "cell_type": "markdown",
   "metadata": {},
   "source": [
    "#### Convert the app sizes to a number\n",
    "    \n",
    "   "
   ]
  },
  {
   "cell_type": "code",
   "execution_count": 729,
   "metadata": {},
   "outputs": [],
   "source": [
    "import numpy as np\n",
    "import pandas as pd\n",
    "import re\n",
    "df=pd.read_csv(\"googleplaystore.csv\")"
   ]
  },
  {
   "cell_type": "code",
   "execution_count": 730,
   "metadata": {},
   "outputs": [
    {
     "data": {
      "text/plain": [
       "array(['19M', '14M', '8.7M', '25M', '2.8M', '5.6M', '29M', '33M', '3.1M',\n",
       "       '28M', '12M', '20M', '21M', '37M', '2.7M', '5.5M', '17M', '39M',\n",
       "       '31M', '4.2M', '7.0M', '23M', '6.0M', '6.1M', '4.6M', '9.2M',\n",
       "       '5.2M', '11M', '24M', 'Varies with device', '9.4M', '15M', '10M',\n",
       "       '1.2M', '26M', '8.0M', '7.9M', '56M', '57M', '35M', '54M', '201k',\n",
       "       '3.6M', '5.7M', '8.6M', '2.4M', '27M', '2.5M', '16M', '3.4M'],\n",
       "      dtype=object)"
      ]
     },
     "execution_count": 730,
     "metadata": {},
     "output_type": "execute_result"
    }
   ],
   "source": [
    "df[\"Size\"].unique()[:50]\n"
   ]
  },
  {
   "cell_type": "markdown",
   "metadata": {},
   "source": [
    "Elimino la riga con 1000+ come size perchè ha tutti gli attributi sbagliati"
   ]
  },
  {
   "cell_type": "code",
   "execution_count": 731,
   "metadata": {},
   "outputs": [],
   "source": [
    "todrop=df[df.Size=='1,000+'].index\n",
    "df=df.drop(todrop).reset_index(drop=True)"
   ]
  },
  {
   "cell_type": "markdown",
   "metadata": {},
   "source": [
    "Sono presenti dimensione misurate con unità diverse, quindi per prima cosa vanno convertiti i record nella stessa unità di misura"
   ]
  },
  {
   "cell_type": "code",
   "execution_count": 732,
   "metadata": {},
   "outputs": [],
   "source": [
    "def MtoK(m):\n",
    "# Funzione che prende re.match e restituisce una stringa con Mb convertiti in Kb\n",
    "    #print(m.group(1))\n",
    "    a = float(m.group(1))\n",
    "    return str(a*1024)+'k'"
   ]
  },
  {
   "cell_type": "code",
   "execution_count": 733,
   "metadata": {},
   "outputs": [],
   "source": [
    "df[\"Size\"]= [re.sub(\"(\\d+\\.*\\d*)M\", MtoK, record) for record in df.Size ]"
   ]
  },
  {
   "cell_type": "markdown",
   "metadata": {},
   "source": [
    "A questo punto vado a convertire tutto in int"
   ]
  },
  {
   "cell_type": "code",
   "execution_count": 734,
   "metadata": {},
   "outputs": [],
   "source": [
    "def fun(record):\n",
    "    temp = re.findall(\"(\\d+)\",record)\n",
    "    if temp: return float(temp[0]) \n",
    "    # condizione necessaria vista la presenza della risposta 'varies with devices' -> findall restituisce []\n",
    "    else: return record"
   ]
  },
  {
   "cell_type": "code",
   "execution_count": 735,
   "metadata": {},
   "outputs": [],
   "source": [
    "df[\"Size\"]= [fun(record) for record in df.Size ]"
   ]
  },
  {
   "cell_type": "code",
   "execution_count": 736,
   "metadata": {},
   "outputs": [
    {
     "data": {
      "text/plain": [
       "0    19456\n",
       "1    14336\n",
       "2     8908\n",
       "Name: Size (kB), dtype: object"
      ]
     },
     "execution_count": 736,
     "metadata": {},
     "output_type": "execute_result"
    }
   ],
   "source": [
    "df.rename(columns={\"Size\":\"Size (kB)\"},inplace=True)\n",
    "df[\"Size (kB)\"].head(3)"
   ]
  },
  {
   "cell_type": "markdown",
   "metadata": {},
   "source": [
    "## Esercizio 2"
   ]
  },
  {
   "cell_type": "markdown",
   "metadata": {},
   "source": [
    "#### Convert the number of installs to a number"
   ]
  },
  {
   "cell_type": "code",
   "execution_count": 737,
   "metadata": {},
   "outputs": [
    {
     "data": {
      "text/plain": [
       "array(['10,000+', '500,000+', '5,000,000+', '50,000,000+', '100,000+',\n",
       "       '50,000+', '1,000,000+', '10,000,000+', '5,000+', '100,000,000+',\n",
       "       '1,000,000,000+', '1,000+', '500,000,000+', '50+', '100+', '500+',\n",
       "       '10+', '1+', '5+', '0+', '0'], dtype=object)"
      ]
     },
     "execution_count": 737,
     "metadata": {},
     "output_type": "execute_result"
    }
   ],
   "source": [
    "df.Installs.unique()"
   ]
  },
  {
   "cell_type": "markdown",
   "metadata": {},
   "source": [
    "Estraggo i gruppi di numeri separati in base alla virgola e li ricongiungo con join"
   ]
  },
  {
   "cell_type": "code",
   "execution_count": 738,
   "metadata": {},
   "outputs": [
    {
     "data": {
      "text/plain": [
       "0       10000\n",
       "1      500000\n",
       "2     5000000\n",
       "3    50000000\n",
       "4      100000\n",
       "Name: Installs, dtype: int64"
      ]
     },
     "execution_count": 738,
     "metadata": {},
     "output_type": "execute_result"
    }
   ],
   "source": [
    "df.Installs=[int(\"\".join(re.findall(\"\\d\",record))) for record in df.Installs]\n",
    "df.Installs.head(5)"
   ]
  },
  {
   "cell_type": "markdown",
   "metadata": {},
   "source": [
    "## Esercizio 3"
   ]
  },
  {
   "cell_type": "markdown",
   "metadata": {},
   "source": [
    "#### Transform “Varies with device” into a missing value"
   ]
  },
  {
   "cell_type": "code",
   "execution_count": 739,
   "metadata": {},
   "outputs": [],
   "source": [
    "df=df.replace(to_replace=\"Varies with device\",value=np.NaN)"
   ]
  },
  {
   "cell_type": "code",
   "execution_count": 740,
   "metadata": {},
   "outputs": [
    {
     "data": {
      "text/plain": [
       "1695"
      ]
     },
     "execution_count": 740,
     "metadata": {},
     "output_type": "execute_result"
    }
   ],
   "source": [
    "np.isnan(df[\"Size (kB)\"]).sum()"
   ]
  },
  {
   "cell_type": "markdown",
   "metadata": {},
   "source": [
    "## Esercizio 4"
   ]
  },
  {
   "cell_type": "markdown",
   "metadata": {},
   "source": [
    "#### Convert Current Ver and Android Ver into a dotted number (e.g. 4.0.3 or 4.2)"
   ]
  },
  {
   "cell_type": "code",
   "execution_count": 741,
   "metadata": {
    "scrolled": true
   },
   "outputs": [
    {
     "data": {
      "text/plain": [
       "array(['4.0.3 and up', '4.2 and up', '4.4 and up', '2.3 and up',\n",
       "       '3.0 and up', '4.1 and up', '4.0 and up', '2.3.3 and up', nan,\n",
       "       '2.2 and up', '5.0 and up', '6.0 and up', '1.6 and up',\n",
       "       '1.5 and up', '2.1 and up', '7.0 and up', '5.1 and up',\n",
       "       '4.3 and up', '4.0.3 - 7.1.1', '2.0 and up', '3.2 and up',\n",
       "       '4.4W and up', '7.1 and up', '7.0 - 7.1.1', '8.0 and up',\n",
       "       '5.0 - 8.0', '3.1 and up', '2.0.1 and up', '4.1 - 7.1.1',\n",
       "       '5.0 - 6.0', '1.0 and up', '2.2 - 7.1.1', '5.0 - 7.1.1'],\n",
       "      dtype=object)"
      ]
     },
     "execution_count": 741,
     "metadata": {},
     "output_type": "execute_result"
    }
   ],
   "source": [
    "df[\"Android Ver\"].unique()"
   ]
  },
  {
   "cell_type": "code",
   "execution_count": 812,
   "metadata": {},
   "outputs": [
    {
     "data": {
      "text/plain": [
       "array([nan, '10.322.16', '1.90.0', '4.6.6', '2.3.2', '1.129.0.2',\n",
       "       '12.8.5.1121', '4.8.0.132', '4.0.0', '4.8.7.8', '3.1.2', '1.9.38',\n",
       "       '1.4.77', '0.111.3', '1', '5.064', '3.7.2.51', '7.2.1', '1.37.2',\n",
       "       '3.7.1'], dtype=object)"
      ]
     },
     "execution_count": 812,
     "metadata": {},
     "output_type": "execute_result"
    }
   ],
   "source": [
    "df[\"Current Ver\"].unique()[:20]"
   ]
  },
  {
   "cell_type": "code",
   "execution_count": 743,
   "metadata": {},
   "outputs": [],
   "source": [
    "def funfun(record):\n",
    "    version=re.compile(\"^(\\d+\\.*\\d*\\.*\\d*\\.*\\d*)\")\n",
    "    if pd.isna(record): return record\n",
    "    else:\n",
    "        temp=version.findall(record)\n",
    "        if temp: return temp[0]\n",
    "        else: return record\n",
    "\n",
    "df[\"Current Ver\"]=[funfun(record) for record in df[\"Current Ver\"]]\n",
    "df[\"Android Ver\"]=[funfun(record) for record in df[\"Android Ver\"]]"
   ]
  },
  {
   "cell_type": "code",
   "execution_count": 744,
   "metadata": {},
   "outputs": [
    {
     "data": {
      "text/html": [
       "<div>\n",
       "<style scoped>\n",
       "    .dataframe tbody tr th:only-of-type {\n",
       "        vertical-align: middle;\n",
       "    }\n",
       "\n",
       "    .dataframe tbody tr th {\n",
       "        vertical-align: top;\n",
       "    }\n",
       "\n",
       "    .dataframe thead th {\n",
       "        text-align: right;\n",
       "    }\n",
       "</style>\n",
       "<table border=\"1\" class=\"dataframe\">\n",
       "  <thead>\n",
       "    <tr style=\"text-align: right;\">\n",
       "      <th></th>\n",
       "      <th>App</th>\n",
       "      <th>Category</th>\n",
       "      <th>Rating</th>\n",
       "      <th>Reviews</th>\n",
       "      <th>Size (kB)</th>\n",
       "      <th>Installs</th>\n",
       "      <th>Type</th>\n",
       "      <th>Price</th>\n",
       "      <th>Content Rating</th>\n",
       "      <th>Genres</th>\n",
       "      <th>Last Updated</th>\n",
       "      <th>Current Ver</th>\n",
       "      <th>Android Ver</th>\n",
       "    </tr>\n",
       "  </thead>\n",
       "  <tbody>\n",
       "    <tr>\n",
       "      <th>0</th>\n",
       "      <td>Photo Editor &amp; Candy Camera &amp; Grid &amp; ScrapBook</td>\n",
       "      <td>ART_AND_DESIGN</td>\n",
       "      <td>4.1</td>\n",
       "      <td>159</td>\n",
       "      <td>19456.0</td>\n",
       "      <td>10000</td>\n",
       "      <td>Free</td>\n",
       "      <td>0</td>\n",
       "      <td>Everyone</td>\n",
       "      <td>Art &amp; Design</td>\n",
       "      <td>January 7, 2018</td>\n",
       "      <td>1.0.0</td>\n",
       "      <td>4.0.3</td>\n",
       "    </tr>\n",
       "    <tr>\n",
       "      <th>1</th>\n",
       "      <td>Coloring book moana</td>\n",
       "      <td>ART_AND_DESIGN</td>\n",
       "      <td>3.9</td>\n",
       "      <td>967</td>\n",
       "      <td>14336.0</td>\n",
       "      <td>500000</td>\n",
       "      <td>Free</td>\n",
       "      <td>0</td>\n",
       "      <td>Everyone</td>\n",
       "      <td>Art &amp; Design;Pretend Play</td>\n",
       "      <td>January 15, 2018</td>\n",
       "      <td>2.0.0</td>\n",
       "      <td>4.0.3</td>\n",
       "    </tr>\n",
       "    <tr>\n",
       "      <th>2</th>\n",
       "      <td>U Launcher Lite – FREE Live Cool Themes, Hide ...</td>\n",
       "      <td>ART_AND_DESIGN</td>\n",
       "      <td>4.7</td>\n",
       "      <td>87510</td>\n",
       "      <td>8908.0</td>\n",
       "      <td>5000000</td>\n",
       "      <td>Free</td>\n",
       "      <td>0</td>\n",
       "      <td>Everyone</td>\n",
       "      <td>Art &amp; Design</td>\n",
       "      <td>August 1, 2018</td>\n",
       "      <td>1.2.4</td>\n",
       "      <td>4.0.3</td>\n",
       "    </tr>\n",
       "    <tr>\n",
       "      <th>3</th>\n",
       "      <td>Sketch - Draw &amp; Paint</td>\n",
       "      <td>ART_AND_DESIGN</td>\n",
       "      <td>4.5</td>\n",
       "      <td>215644</td>\n",
       "      <td>25600.0</td>\n",
       "      <td>50000000</td>\n",
       "      <td>Free</td>\n",
       "      <td>0</td>\n",
       "      <td>Teen</td>\n",
       "      <td>Art &amp; Design</td>\n",
       "      <td>June 8, 2018</td>\n",
       "      <td>NaN</td>\n",
       "      <td>4.2</td>\n",
       "    </tr>\n",
       "    <tr>\n",
       "      <th>4</th>\n",
       "      <td>Pixel Draw - Number Art Coloring Book</td>\n",
       "      <td>ART_AND_DESIGN</td>\n",
       "      <td>4.3</td>\n",
       "      <td>967</td>\n",
       "      <td>2867.0</td>\n",
       "      <td>100000</td>\n",
       "      <td>Free</td>\n",
       "      <td>0</td>\n",
       "      <td>Everyone</td>\n",
       "      <td>Art &amp; Design;Creativity</td>\n",
       "      <td>June 20, 2018</td>\n",
       "      <td>1.1</td>\n",
       "      <td>4.4</td>\n",
       "    </tr>\n",
       "  </tbody>\n",
       "</table>\n",
       "</div>"
      ],
      "text/plain": [
       "                                                 App        Category  Rating  \\\n",
       "0     Photo Editor & Candy Camera & Grid & ScrapBook  ART_AND_DESIGN     4.1   \n",
       "1                                Coloring book moana  ART_AND_DESIGN     3.9   \n",
       "2  U Launcher Lite – FREE Live Cool Themes, Hide ...  ART_AND_DESIGN     4.7   \n",
       "3                              Sketch - Draw & Paint  ART_AND_DESIGN     4.5   \n",
       "4              Pixel Draw - Number Art Coloring Book  ART_AND_DESIGN     4.3   \n",
       "\n",
       "  Reviews  Size (kB)  Installs  Type Price Content Rating  \\\n",
       "0     159    19456.0     10000  Free     0       Everyone   \n",
       "1     967    14336.0    500000  Free     0       Everyone   \n",
       "2   87510     8908.0   5000000  Free     0       Everyone   \n",
       "3  215644    25600.0  50000000  Free     0           Teen   \n",
       "4     967     2867.0    100000  Free     0       Everyone   \n",
       "\n",
       "                      Genres      Last Updated Current Ver Android Ver  \n",
       "0               Art & Design   January 7, 2018       1.0.0       4.0.3  \n",
       "1  Art & Design;Pretend Play  January 15, 2018       2.0.0       4.0.3  \n",
       "2               Art & Design    August 1, 2018       1.2.4       4.0.3  \n",
       "3               Art & Design      June 8, 2018         NaN         4.2  \n",
       "4    Art & Design;Creativity     June 20, 2018         1.1         4.4  "
      ]
     },
     "execution_count": 744,
     "metadata": {},
     "output_type": "execute_result"
    }
   ],
   "source": [
    "df.head()"
   ]
  },
  {
   "cell_type": "markdown",
   "metadata": {},
   "source": [
    "## Esercizio 5"
   ]
  },
  {
   "cell_type": "markdown",
   "metadata": {},
   "source": [
    "#### Remove the duplicates"
   ]
  },
  {
   "cell_type": "code",
   "execution_count": 745,
   "metadata": {},
   "outputs": [
    {
     "data": {
      "text/html": [
       "<div>\n",
       "<style scoped>\n",
       "    .dataframe tbody tr th:only-of-type {\n",
       "        vertical-align: middle;\n",
       "    }\n",
       "\n",
       "    .dataframe tbody tr th {\n",
       "        vertical-align: top;\n",
       "    }\n",
       "\n",
       "    .dataframe thead th {\n",
       "        text-align: right;\n",
       "    }\n",
       "</style>\n",
       "<table border=\"1\" class=\"dataframe\">\n",
       "  <thead>\n",
       "    <tr style=\"text-align: right;\">\n",
       "      <th></th>\n",
       "      <th>App</th>\n",
       "      <th>Category</th>\n",
       "      <th>Rating</th>\n",
       "      <th>Reviews</th>\n",
       "      <th>Size (kB)</th>\n",
       "      <th>Installs</th>\n",
       "      <th>Type</th>\n",
       "      <th>Price</th>\n",
       "      <th>Content Rating</th>\n",
       "      <th>Genres</th>\n",
       "      <th>Last Updated</th>\n",
       "      <th>Current Ver</th>\n",
       "      <th>Android Ver</th>\n",
       "    </tr>\n",
       "  </thead>\n",
       "  <tbody>\n",
       "    <tr>\n",
       "      <th>193</th>\n",
       "      <td>Google My Business</td>\n",
       "      <td>BUSINESS</td>\n",
       "      <td>4.4</td>\n",
       "      <td>70991</td>\n",
       "      <td>NaN</td>\n",
       "      <td>5000000</td>\n",
       "      <td>Free</td>\n",
       "      <td>0</td>\n",
       "      <td>Everyone</td>\n",
       "      <td>Business</td>\n",
       "      <td>July 24, 2018</td>\n",
       "      <td>2.19.0.204537701</td>\n",
       "      <td>4.4</td>\n",
       "    </tr>\n",
       "    <tr>\n",
       "      <th>239</th>\n",
       "      <td>Google My Business</td>\n",
       "      <td>BUSINESS</td>\n",
       "      <td>4.4</td>\n",
       "      <td>70991</td>\n",
       "      <td>NaN</td>\n",
       "      <td>5000000</td>\n",
       "      <td>Free</td>\n",
       "      <td>0</td>\n",
       "      <td>Everyone</td>\n",
       "      <td>Business</td>\n",
       "      <td>July 24, 2018</td>\n",
       "      <td>2.19.0.204537701</td>\n",
       "      <td>4.4</td>\n",
       "    </tr>\n",
       "    <tr>\n",
       "      <th>268</th>\n",
       "      <td>Google My Business</td>\n",
       "      <td>BUSINESS</td>\n",
       "      <td>4.4</td>\n",
       "      <td>70991</td>\n",
       "      <td>NaN</td>\n",
       "      <td>5000000</td>\n",
       "      <td>Free</td>\n",
       "      <td>0</td>\n",
       "      <td>Everyone</td>\n",
       "      <td>Business</td>\n",
       "      <td>July 24, 2018</td>\n",
       "      <td>2.19.0.204537701</td>\n",
       "      <td>4.4</td>\n",
       "    </tr>\n",
       "  </tbody>\n",
       "</table>\n",
       "</div>"
      ],
      "text/plain": [
       "                    App  Category  Rating Reviews  Size (kB)  Installs  Type  \\\n",
       "193  Google My Business  BUSINESS     4.4   70991        NaN   5000000  Free   \n",
       "239  Google My Business  BUSINESS     4.4   70991        NaN   5000000  Free   \n",
       "268  Google My Business  BUSINESS     4.4   70991        NaN   5000000  Free   \n",
       "\n",
       "    Price Content Rating    Genres   Last Updated       Current Ver  \\\n",
       "193     0       Everyone  Business  July 24, 2018  2.19.0.204537701   \n",
       "239     0       Everyone  Business  July 24, 2018  2.19.0.204537701   \n",
       "268     0       Everyone  Business  July 24, 2018  2.19.0.204537701   \n",
       "\n",
       "    Android Ver  \n",
       "193         4.4  \n",
       "239         4.4  \n",
       "268         4.4  "
      ]
     },
     "execution_count": 745,
     "metadata": {},
     "output_type": "execute_result"
    }
   ],
   "source": [
    "df[df.App=='Google My Business']\n",
    "# esempio di un duplicato perfetto (tutte le var uguali)"
   ]
  },
  {
   "cell_type": "code",
   "execution_count": 746,
   "metadata": {},
   "outputs": [
    {
     "data": {
      "text/plain": [
       "483"
      ]
     },
     "execution_count": 746,
     "metadata": {},
     "output_type": "execute_result"
    }
   ],
   "source": [
    "# Duplicati perfetti\n",
    "df[df.duplicated()].shape[0]"
   ]
  },
  {
   "cell_type": "code",
   "execution_count": 747,
   "metadata": {},
   "outputs": [
    {
     "data": {
      "text/plain": [
       "1181"
      ]
     },
     "execution_count": 747,
     "metadata": {},
     "output_type": "execute_result"
    }
   ],
   "source": [
    "# App doppie (App unico attibuto ripetuto)\n",
    "df[df.duplicated('App')].shape[0]"
   ]
  },
  {
   "cell_type": "code",
   "execution_count": 748,
   "metadata": {},
   "outputs": [
    {
     "data": {
      "text/html": [
       "<div>\n",
       "<style scoped>\n",
       "    .dataframe tbody tr th:only-of-type {\n",
       "        vertical-align: middle;\n",
       "    }\n",
       "\n",
       "    .dataframe tbody tr th {\n",
       "        vertical-align: top;\n",
       "    }\n",
       "\n",
       "    .dataframe thead th {\n",
       "        text-align: right;\n",
       "    }\n",
       "</style>\n",
       "<table border=\"1\" class=\"dataframe\">\n",
       "  <thead>\n",
       "    <tr style=\"text-align: right;\">\n",
       "      <th></th>\n",
       "      <th>App</th>\n",
       "      <th>Category</th>\n",
       "      <th>Rating</th>\n",
       "      <th>Reviews</th>\n",
       "      <th>Size (kB)</th>\n",
       "      <th>Installs</th>\n",
       "      <th>Type</th>\n",
       "      <th>Price</th>\n",
       "      <th>Content Rating</th>\n",
       "      <th>Genres</th>\n",
       "      <th>Last Updated</th>\n",
       "      <th>Current Ver</th>\n",
       "      <th>Android Ver</th>\n",
       "    </tr>\n",
       "  </thead>\n",
       "  <tbody>\n",
       "    <tr>\n",
       "      <th>1695</th>\n",
       "      <td>Farm Heroes Saga</td>\n",
       "      <td>GAME</td>\n",
       "      <td>4.4</td>\n",
       "      <td>7614130</td>\n",
       "      <td>71680.0</td>\n",
       "      <td>100000000</td>\n",
       "      <td>Free</td>\n",
       "      <td>0</td>\n",
       "      <td>Everyone</td>\n",
       "      <td>Casual</td>\n",
       "      <td>July 26, 2018</td>\n",
       "      <td>5.1.8</td>\n",
       "      <td>2.3</td>\n",
       "    </tr>\n",
       "    <tr>\n",
       "      <th>1733</th>\n",
       "      <td>Farm Heroes Saga</td>\n",
       "      <td>GAME</td>\n",
       "      <td>4.4</td>\n",
       "      <td>7614271</td>\n",
       "      <td>71680.0</td>\n",
       "      <td>100000000</td>\n",
       "      <td>Free</td>\n",
       "      <td>0</td>\n",
       "      <td>Everyone</td>\n",
       "      <td>Casual</td>\n",
       "      <td>July 26, 2018</td>\n",
       "      <td>5.1.8</td>\n",
       "      <td>2.3</td>\n",
       "    </tr>\n",
       "    <tr>\n",
       "      <th>1880</th>\n",
       "      <td>Farm Heroes Saga</td>\n",
       "      <td>GAME</td>\n",
       "      <td>4.4</td>\n",
       "      <td>7614415</td>\n",
       "      <td>71680.0</td>\n",
       "      <td>100000000</td>\n",
       "      <td>Free</td>\n",
       "      <td>0</td>\n",
       "      <td>Everyone</td>\n",
       "      <td>Casual</td>\n",
       "      <td>July 26, 2018</td>\n",
       "      <td>5.1.8</td>\n",
       "      <td>2.3</td>\n",
       "    </tr>\n",
       "    <tr>\n",
       "      <th>2011</th>\n",
       "      <td>Farm Heroes Saga</td>\n",
       "      <td>GAME</td>\n",
       "      <td>4.4</td>\n",
       "      <td>7614407</td>\n",
       "      <td>71680.0</td>\n",
       "      <td>100000000</td>\n",
       "      <td>Free</td>\n",
       "      <td>0</td>\n",
       "      <td>Everyone</td>\n",
       "      <td>Casual</td>\n",
       "      <td>July 26, 2018</td>\n",
       "      <td>5.1.8</td>\n",
       "      <td>2.3</td>\n",
       "    </tr>\n",
       "    <tr>\n",
       "      <th>10186</th>\n",
       "      <td>Farm Heroes Saga</td>\n",
       "      <td>FAMILY</td>\n",
       "      <td>4.4</td>\n",
       "      <td>7615646</td>\n",
       "      <td>72704.0</td>\n",
       "      <td>100000000</td>\n",
       "      <td>Free</td>\n",
       "      <td>0</td>\n",
       "      <td>Everyone</td>\n",
       "      <td>Casual</td>\n",
       "      <td>August 7, 2018</td>\n",
       "      <td>5.2.6</td>\n",
       "      <td>2.3</td>\n",
       "    </tr>\n",
       "  </tbody>\n",
       "</table>\n",
       "</div>"
      ],
      "text/plain": [
       "                    App Category  Rating  Reviews  Size (kB)   Installs  Type  \\\n",
       "1695   Farm Heroes Saga     GAME     4.4  7614130    71680.0  100000000  Free   \n",
       "1733   Farm Heroes Saga     GAME     4.4  7614271    71680.0  100000000  Free   \n",
       "1880   Farm Heroes Saga     GAME     4.4  7614415    71680.0  100000000  Free   \n",
       "2011   Farm Heroes Saga     GAME     4.4  7614407    71680.0  100000000  Free   \n",
       "10186  Farm Heroes Saga   FAMILY     4.4  7615646    72704.0  100000000  Free   \n",
       "\n",
       "      Price Content Rating  Genres    Last Updated Current Ver Android Ver  \n",
       "1695      0       Everyone  Casual   July 26, 2018       5.1.8         2.3  \n",
       "1733      0       Everyone  Casual   July 26, 2018       5.1.8         2.3  \n",
       "1880      0       Everyone  Casual   July 26, 2018       5.1.8         2.3  \n",
       "2011      0       Everyone  Casual   July 26, 2018       5.1.8         2.3  \n",
       "10186     0       Everyone  Casual  August 7, 2018       5.2.6         2.3  "
      ]
     },
     "execution_count": 748,
     "metadata": {},
     "output_type": "execute_result"
    }
   ],
   "source": [
    "df[df.App=='Farm Heroes Saga']\n",
    "# Quello che cambia è raramente la versione corrente, più spesso il numero di Reviews, sintomo del fatto che i\n",
    "# doppioni derivano da dati presi in momenti diversi. Il più recente naturalmente avrà un numero maggiore di review"
   ]
  },
  {
   "cell_type": "code",
   "execution_count": 749,
   "metadata": {},
   "outputs": [
    {
     "data": {
      "text/plain": [
       "array(['159', '967', '87510', ..., '603', '1195', '398307'], dtype=object)"
      ]
     },
     "execution_count": 749,
     "metadata": {},
     "output_type": "execute_result"
    }
   ],
   "source": [
    "df.Reviews.unique()"
   ]
  },
  {
   "cell_type": "code",
   "execution_count": 750,
   "metadata": {},
   "outputs": [],
   "source": [
    "# Converto l'attributo Reviews in int così da poterlo ordinare\n",
    "df.Reviews=pd.to_numeric(df.Reviews)"
   ]
  },
  {
   "cell_type": "code",
   "execution_count": 751,
   "metadata": {},
   "outputs": [],
   "source": [
    "df=df.sort_values('Reviews',ascending=False)"
   ]
  },
  {
   "cell_type": "code",
   "execution_count": 752,
   "metadata": {},
   "outputs": [],
   "source": [
    "df=df.drop_duplicates(subset='App').reset_index(drop=True)"
   ]
  },
  {
   "cell_type": "code",
   "execution_count": 753,
   "metadata": {},
   "outputs": [
    {
     "data": {
      "text/plain": [
       "0"
      ]
     },
     "execution_count": 753,
     "metadata": {},
     "output_type": "execute_result"
    }
   ],
   "source": [
    "df[df.duplicated('App')].shape[0]\n",
    "# ok!"
   ]
  },
  {
   "cell_type": "markdown",
   "metadata": {},
   "source": [
    "## Esercizio 6"
   ]
  },
  {
   "cell_type": "markdown",
   "metadata": {},
   "source": [
    "#### For each category, compute the number of apps"
   ]
  },
  {
   "cell_type": "code",
   "execution_count": 754,
   "metadata": {},
   "outputs": [
    {
     "data": {
      "text/plain": [
       "Category\n",
       "ART_AND_DESIGN          61\n",
       "AUTO_AND_VEHICLES       85\n",
       "BEAUTY                  53\n",
       "BOOKS_AND_REFERENCE    222\n",
       "BUSINESS               420\n",
       "COMICS                  56\n",
       "COMMUNICATION          315\n",
       "DATING                 170\n",
       "EDUCATION              107\n",
       "ENTERTAINMENT           87\n",
       "Name: App, dtype: int64"
      ]
     },
     "execution_count": 754,
     "metadata": {},
     "output_type": "execute_result"
    }
   ],
   "source": [
    "df.groupby(\"Category\")[\"App\"].count()[:10]"
   ]
  },
  {
   "cell_type": "markdown",
   "metadata": {},
   "source": [
    "## Esercizio 7"
   ]
  },
  {
   "cell_type": "markdown",
   "metadata": {},
   "source": [
    "#### For each category, compute the average rating"
   ]
  },
  {
   "cell_type": "code",
   "execution_count": 755,
   "metadata": {},
   "outputs": [
    {
     "data": {
      "text/plain": [
       "Category\n",
       "ART_AND_DESIGN         4.359322\n",
       "AUTO_AND_VEHICLES      4.190411\n",
       "BEAUTY                 4.278571\n",
       "BOOKS_AND_REFERENCE    4.344970\n",
       "BUSINESS               4.098479\n",
       "COMICS                 4.181481\n",
       "COMMUNICATION          4.121484\n",
       "DATING                 3.980451\n",
       "EDUCATION              4.354717\n",
       "ENTERTAINMENT          4.129885\n",
       "Name: Rating, dtype: float64"
      ]
     },
     "execution_count": 755,
     "metadata": {},
     "output_type": "execute_result"
    }
   ],
   "source": [
    "df.groupby(\"Category\")[\"Rating\"].mean()[:10]"
   ]
  },
  {
   "cell_type": "markdown",
   "metadata": {},
   "source": [
    "## Esercizio 8"
   ]
  },
  {
   "cell_type": "markdown",
   "metadata": {},
   "source": [
    "#### Create two dataframes: one for the genres and one bridging apps and genres. So that, for instance, the app Pixel Draw - Number Art Coloring Book appears twice in the bridging table, once for Art & Design, once for Creativity"
   ]
  },
  {
   "cell_type": "markdown",
   "metadata": {},
   "source": [
    "Creo per prima la tabella dei generi (genres) e a partire da questa la tabella ponte tra la tabella delle app e dei genrei (bridge). Nel mezzo la tabella temp (temporanea) serve per esplicitare il procedimento"
   ]
  },
  {
   "cell_type": "code",
   "execution_count": 756,
   "metadata": {
    "scrolled": true
   },
   "outputs": [
    {
     "data": {
      "text/html": [
       "<div>\n",
       "<style scoped>\n",
       "    .dataframe tbody tr th:only-of-type {\n",
       "        vertical-align: middle;\n",
       "    }\n",
       "\n",
       "    .dataframe tbody tr th {\n",
       "        vertical-align: top;\n",
       "    }\n",
       "\n",
       "    .dataframe thead th {\n",
       "        text-align: right;\n",
       "    }\n",
       "</style>\n",
       "<table border=\"1\" class=\"dataframe\">\n",
       "  <thead>\n",
       "    <tr style=\"text-align: right;\">\n",
       "      <th></th>\n",
       "      <th>Primo_genere</th>\n",
       "      <th>Secondo_genere</th>\n",
       "    </tr>\n",
       "  </thead>\n",
       "  <tbody>\n",
       "    <tr>\n",
       "      <th>0</th>\n",
       "      <td>Social</td>\n",
       "      <td>NaN</td>\n",
       "    </tr>\n",
       "    <tr>\n",
       "      <th>1</th>\n",
       "      <td>Communication</td>\n",
       "      <td>NaN</td>\n",
       "    </tr>\n",
       "    <tr>\n",
       "      <th>2</th>\n",
       "      <td>Social</td>\n",
       "      <td>NaN</td>\n",
       "    </tr>\n",
       "    <tr>\n",
       "      <th>3</th>\n",
       "      <td>Communication</td>\n",
       "      <td>NaN</td>\n",
       "    </tr>\n",
       "    <tr>\n",
       "      <th>4</th>\n",
       "      <td>Strategy</td>\n",
       "      <td>NaN</td>\n",
       "    </tr>\n",
       "  </tbody>\n",
       "</table>\n",
       "</div>"
      ],
      "text/plain": [
       "    Primo_genere Secondo_genere\n",
       "0         Social            NaN\n",
       "1  Communication            NaN\n",
       "2         Social            NaN\n",
       "3  Communication            NaN\n",
       "4       Strategy            NaN"
      ]
     },
     "execution_count": 756,
     "metadata": {},
     "output_type": "execute_result"
    }
   ],
   "source": [
    "# Tabella dei generi\n",
    "df['SplitGenres'] = [record.split(';') for record in df['Genres']] # creo variabile con lista di generi\n",
    "genres = df.SplitGenres.apply(pd.Series).rename(columns = {0:'Primo_genere', 1:'Secondo_genere'})  \n",
    "genres.head()"
   ]
  },
  {
   "cell_type": "code",
   "execution_count": 757,
   "metadata": {
    "scrolled": true
   },
   "outputs": [
    {
     "data": {
      "text/html": [
       "<div>\n",
       "<style scoped>\n",
       "    .dataframe tbody tr th:only-of-type {\n",
       "        vertical-align: middle;\n",
       "    }\n",
       "\n",
       "    .dataframe tbody tr th {\n",
       "        vertical-align: top;\n",
       "    }\n",
       "\n",
       "    .dataframe thead th {\n",
       "        text-align: right;\n",
       "    }\n",
       "</style>\n",
       "<table border=\"1\" class=\"dataframe\">\n",
       "  <thead>\n",
       "    <tr style=\"text-align: right;\">\n",
       "      <th></th>\n",
       "      <th>App</th>\n",
       "      <th>variable</th>\n",
       "      <th>Genere</th>\n",
       "    </tr>\n",
       "  </thead>\n",
       "  <tbody>\n",
       "    <tr>\n",
       "      <th>4831</th>\n",
       "      <td>Pixel Draw - Number Art Coloring Book</td>\n",
       "      <td>Primo_genere</td>\n",
       "      <td>Art &amp; Design</td>\n",
       "    </tr>\n",
       "    <tr>\n",
       "      <th>14490</th>\n",
       "      <td>Pixel Draw - Number Art Coloring Book</td>\n",
       "      <td>Secondo_genere</td>\n",
       "      <td>Creativity</td>\n",
       "    </tr>\n",
       "  </tbody>\n",
       "</table>\n",
       "</div>"
      ],
      "text/plain": [
       "                                         App        variable        Genere\n",
       "4831   Pixel Draw - Number Art Coloring Book    Primo_genere  Art & Design\n",
       "14490  Pixel Draw - Number Art Coloring Book  Secondo_genere    Creativity"
      ]
     },
     "execution_count": 757,
     "metadata": {},
     "output_type": "execute_result"
    }
   ],
   "source": [
    "# Unisco l'attributo App ai generi e uso la funzione melt che esprime la tabella in formato long invece di wide ovvero\n",
    "# un attributo usato come identificatore (App) e le altre sono espresse mediantte un attributo 'variabile' e il suo valore\n",
    "temp=genres.merge(df.App, right_index = True, left_index = True).melt('App', value_name = \"Genere\")\n",
    "temp[temp.App=='Pixel Draw - Number Art Coloring Book']"
   ]
  },
  {
   "cell_type": "code",
   "execution_count": 758,
   "metadata": {},
   "outputs": [
    {
     "data": {
      "text/html": [
       "<div>\n",
       "<style scoped>\n",
       "    .dataframe tbody tr th:only-of-type {\n",
       "        vertical-align: middle;\n",
       "    }\n",
       "\n",
       "    .dataframe tbody tr th {\n",
       "        vertical-align: top;\n",
       "    }\n",
       "\n",
       "    .dataframe thead th {\n",
       "        text-align: right;\n",
       "    }\n",
       "</style>\n",
       "<table border=\"1\" class=\"dataframe\">\n",
       "  <thead>\n",
       "    <tr style=\"text-align: right;\">\n",
       "      <th></th>\n",
       "      <th>App</th>\n",
       "      <th>Genere</th>\n",
       "    </tr>\n",
       "  </thead>\n",
       "  <tbody>\n",
       "    <tr>\n",
       "      <th>4831</th>\n",
       "      <td>Pixel Draw - Number Art Coloring Book</td>\n",
       "      <td>Art &amp; Design</td>\n",
       "    </tr>\n",
       "    <tr>\n",
       "      <th>14490</th>\n",
       "      <td>Pixel Draw - Number Art Coloring Book</td>\n",
       "      <td>Creativity</td>\n",
       "    </tr>\n",
       "  </tbody>\n",
       "</table>\n",
       "</div>"
      ],
      "text/plain": [
       "                                         App        Genere\n",
       "4831   Pixel Draw - Number Art Coloring Book  Art & Design\n",
       "14490  Pixel Draw - Number Art Coloring Book    Creativity"
      ]
     },
     "execution_count": 758,
     "metadata": {},
     "output_type": "execute_result"
    }
   ],
   "source": [
    "bridge = temp[['App','Genere']]\n",
    "bridge[bridge.App=='Pixel Draw - Number Art Coloring Book']"
   ]
  },
  {
   "cell_type": "markdown",
   "metadata": {},
   "source": [
    "## Esercizio 9"
   ]
  },
  {
   "cell_type": "markdown",
   "metadata": {},
   "source": [
    "#### For each genre, create a new column of the original dataframe.\n",
    "#### The new columns must have boolean values (True if the app has a given genre)"
   ]
  },
  {
   "cell_type": "code",
   "execution_count": 759,
   "metadata": {},
   "outputs": [],
   "source": [
    "a=pd.get_dummies(bridge.Genere).merge(bridge.App, right_index = True, left_index = True)"
   ]
  },
  {
   "cell_type": "code",
   "execution_count": 760,
   "metadata": {},
   "outputs": [],
   "source": [
    "a=a.groupby('App').sum().reset_index() # reset altrimenti rimane 'App' come indice"
   ]
  },
  {
   "cell_type": "code",
   "execution_count": 761,
   "metadata": {},
   "outputs": [],
   "source": [
    "df=pd.merge(df,a,left_on='App',right_on='App')"
   ]
  },
  {
   "cell_type": "code",
   "execution_count": 762,
   "metadata": {},
   "outputs": [
    {
     "data": {
      "text/html": [
       "<div>\n",
       "<style scoped>\n",
       "    .dataframe tbody tr th:only-of-type {\n",
       "        vertical-align: middle;\n",
       "    }\n",
       "\n",
       "    .dataframe tbody tr th {\n",
       "        vertical-align: top;\n",
       "    }\n",
       "\n",
       "    .dataframe thead th {\n",
       "        text-align: right;\n",
       "    }\n",
       "</style>\n",
       "<table border=\"1\" class=\"dataframe\">\n",
       "  <thead>\n",
       "    <tr style=\"text-align: right;\">\n",
       "      <th></th>\n",
       "      <th>App</th>\n",
       "      <th>Category</th>\n",
       "      <th>Rating</th>\n",
       "      <th>Reviews</th>\n",
       "      <th>Size (kB)</th>\n",
       "      <th>Installs</th>\n",
       "      <th>Type</th>\n",
       "      <th>Price</th>\n",
       "      <th>Content Rating</th>\n",
       "      <th>Genres</th>\n",
       "      <th>...</th>\n",
       "      <th>Simulation</th>\n",
       "      <th>Social</th>\n",
       "      <th>Sports</th>\n",
       "      <th>Strategy</th>\n",
       "      <th>Tools</th>\n",
       "      <th>Travel &amp; Local</th>\n",
       "      <th>Trivia</th>\n",
       "      <th>Video Players &amp; Editors</th>\n",
       "      <th>Weather</th>\n",
       "      <th>Word</th>\n",
       "    </tr>\n",
       "  </thead>\n",
       "  <tbody>\n",
       "    <tr>\n",
       "      <th>0</th>\n",
       "      <td>Facebook</td>\n",
       "      <td>SOCIAL</td>\n",
       "      <td>4.1</td>\n",
       "      <td>78158306</td>\n",
       "      <td>NaN</td>\n",
       "      <td>1000000000</td>\n",
       "      <td>Free</td>\n",
       "      <td>0</td>\n",
       "      <td>Teen</td>\n",
       "      <td>Social</td>\n",
       "      <td>...</td>\n",
       "      <td>0</td>\n",
       "      <td>1</td>\n",
       "      <td>0</td>\n",
       "      <td>0</td>\n",
       "      <td>0</td>\n",
       "      <td>0</td>\n",
       "      <td>0</td>\n",
       "      <td>0</td>\n",
       "      <td>0</td>\n",
       "      <td>0</td>\n",
       "    </tr>\n",
       "    <tr>\n",
       "      <th>1</th>\n",
       "      <td>WhatsApp Messenger</td>\n",
       "      <td>COMMUNICATION</td>\n",
       "      <td>4.4</td>\n",
       "      <td>69119316</td>\n",
       "      <td>NaN</td>\n",
       "      <td>1000000000</td>\n",
       "      <td>Free</td>\n",
       "      <td>0</td>\n",
       "      <td>Everyone</td>\n",
       "      <td>Communication</td>\n",
       "      <td>...</td>\n",
       "      <td>0</td>\n",
       "      <td>0</td>\n",
       "      <td>0</td>\n",
       "      <td>0</td>\n",
       "      <td>0</td>\n",
       "      <td>0</td>\n",
       "      <td>0</td>\n",
       "      <td>0</td>\n",
       "      <td>0</td>\n",
       "      <td>0</td>\n",
       "    </tr>\n",
       "  </tbody>\n",
       "</table>\n",
       "<p>2 rows × 67 columns</p>\n",
       "</div>"
      ],
      "text/plain": [
       "                  App       Category  Rating   Reviews  Size (kB)    Installs  \\\n",
       "0            Facebook         SOCIAL     4.1  78158306        NaN  1000000000   \n",
       "1  WhatsApp Messenger  COMMUNICATION     4.4  69119316        NaN  1000000000   \n",
       "\n",
       "   Type Price Content Rating         Genres  ... Simulation Social Sports  \\\n",
       "0  Free     0           Teen         Social  ...          0      1      0   \n",
       "1  Free     0       Everyone  Communication  ...          0      0      0   \n",
       "\n",
       "  Strategy  Tools  Travel & Local  Trivia  Video Players & Editors  Weather  \\\n",
       "0        0      0               0       0                        0        0   \n",
       "1        0      0               0       0                        0        0   \n",
       "\n",
       "   Word  \n",
       "0     0  \n",
       "1     0  \n",
       "\n",
       "[2 rows x 67 columns]"
      ]
     },
     "execution_count": 762,
     "metadata": {},
     "output_type": "execute_result"
    }
   ],
   "source": [
    "df.head(2)"
   ]
  },
  {
   "cell_type": "code",
   "execution_count": 763,
   "metadata": {},
   "outputs": [
    {
     "data": {
      "text/html": [
       "<div>\n",
       "<style scoped>\n",
       "    .dataframe tbody tr th:only-of-type {\n",
       "        vertical-align: middle;\n",
       "    }\n",
       "\n",
       "    .dataframe tbody tr th {\n",
       "        vertical-align: top;\n",
       "    }\n",
       "\n",
       "    .dataframe thead th {\n",
       "        text-align: right;\n",
       "    }\n",
       "</style>\n",
       "<table border=\"1\" class=\"dataframe\">\n",
       "  <thead>\n",
       "    <tr style=\"text-align: right;\">\n",
       "      <th></th>\n",
       "      <th>App</th>\n",
       "      <th>Art &amp; Design</th>\n",
       "      <th>Creativity</th>\n",
       "      <th>Strategy</th>\n",
       "    </tr>\n",
       "  </thead>\n",
       "  <tbody>\n",
       "    <tr>\n",
       "      <th>4831</th>\n",
       "      <td>Pixel Draw - Number Art Coloring Book</td>\n",
       "      <td>1</td>\n",
       "      <td>1</td>\n",
       "      <td>0</td>\n",
       "    </tr>\n",
       "  </tbody>\n",
       "</table>\n",
       "</div>"
      ],
      "text/plain": [
       "                                        App  Art & Design  Creativity  \\\n",
       "4831  Pixel Draw - Number Art Coloring Book             1           1   \n",
       "\n",
       "      Strategy  \n",
       "4831         0  "
      ]
     },
     "execution_count": 763,
     "metadata": {},
     "output_type": "execute_result"
    }
   ],
   "source": [
    "# In particolare, confrontando il risultato per la solita app:\n",
    "\n",
    "df[df.App=='Pixel Draw - Number Art Coloring Book'][['App','Art & Design','Creativity','Strategy']]"
   ]
  },
  {
   "cell_type": "markdown",
   "metadata": {},
   "source": [
    "## Esercizio 10"
   ]
  },
  {
   "cell_type": "markdown",
   "metadata": {},
   "source": [
    "#### For each genre, compute the average rating. What is the genre with highest average?"
   ]
  },
  {
   "cell_type": "markdown",
   "metadata": {},
   "source": [
    "Correggo a partire dal dataset originale la presenza di diversi generi per app considerando solo il primo"
   ]
  },
  {
   "cell_type": "code",
   "execution_count": 764,
   "metadata": {},
   "outputs": [],
   "source": [
    "df.Genres=genres.Primo_genere # sfrutto la tabella dei generi di prima"
   ]
  },
  {
   "cell_type": "code",
   "execution_count": 765,
   "metadata": {},
   "outputs": [
    {
     "data": {
      "text/plain": [
       "Genres\n",
       "Action             4.247697\n",
       "Adventure          4.191026\n",
       "Arcade             4.277838\n",
       "Art & Design       4.350000\n",
       "Auto & Vehicles    4.190411\n",
       "Name: Rating, dtype: float64"
      ]
     },
     "execution_count": 765,
     "metadata": {},
     "output_type": "execute_result"
    }
   ],
   "source": [
    "avg_rate=df.groupby(\"Genres\")[\"Rating\"].mean()\n",
    "avg_rate.head()"
   ]
  },
  {
   "cell_type": "code",
   "execution_count": 766,
   "metadata": {},
   "outputs": [
    {
     "data": {
      "text/plain": [
       "Genres\n",
       "Events          4.435556\n",
       "Puzzle          4.370732\n",
       "Art & Design    4.350000\n",
       "Name: Rating, dtype: float64"
      ]
     },
     "execution_count": 766,
     "metadata": {},
     "output_type": "execute_result"
    }
   ],
   "source": [
    "avg_rate.sort_values(ascending = False).head(3)"
   ]
  },
  {
   "cell_type": "markdown",
   "metadata": {},
   "source": [
    "## Esercizio 11"
   ]
  },
  {
   "cell_type": "markdown",
   "metadata": {},
   "source": [
    "#### For each app, compute the approximate income, obtain as a product of number of installs and price."
   ]
  },
  {
   "cell_type": "code",
   "execution_count": 767,
   "metadata": {},
   "outputs": [
    {
     "data": {
      "text/plain": [
       "array(['0', '$6.99', '$0.99', '$2.99', '$1.99', '$2.49', '$4.99', '$5.99',\n",
       "       '$4.49', '$9.99', '$3.99', '$1.49', '$3.95', '$7.99', '$3.49',\n",
       "       '$8.99', '$13.99', '$19.99', '$11.99', '$12.99'], dtype=object)"
      ]
     },
     "execution_count": 767,
     "metadata": {},
     "output_type": "execute_result"
    }
   ],
   "source": [
    "df['Price'].unique()[:20]"
   ]
  },
  {
   "cell_type": "code",
   "execution_count": 768,
   "metadata": {},
   "outputs": [
    {
     "data": {
      "text/html": [
       "<div>\n",
       "<style scoped>\n",
       "    .dataframe tbody tr th:only-of-type {\n",
       "        vertical-align: middle;\n",
       "    }\n",
       "\n",
       "    .dataframe tbody tr th {\n",
       "        vertical-align: top;\n",
       "    }\n",
       "\n",
       "    .dataframe thead th {\n",
       "        text-align: right;\n",
       "    }\n",
       "</style>\n",
       "<table border=\"1\" class=\"dataframe\">\n",
       "  <thead>\n",
       "    <tr style=\"text-align: right;\">\n",
       "      <th></th>\n",
       "      <th>App</th>\n",
       "      <th>Category</th>\n",
       "      <th>Rating</th>\n",
       "      <th>Reviews</th>\n",
       "      <th>Size (kB)</th>\n",
       "      <th>Installs</th>\n",
       "      <th>Type</th>\n",
       "      <th>Price</th>\n",
       "      <th>Content Rating</th>\n",
       "      <th>Genres</th>\n",
       "      <th>...</th>\n",
       "      <th>Simulation</th>\n",
       "      <th>Social</th>\n",
       "      <th>Sports</th>\n",
       "      <th>Strategy</th>\n",
       "      <th>Tools</th>\n",
       "      <th>Travel &amp; Local</th>\n",
       "      <th>Trivia</th>\n",
       "      <th>Video Players &amp; Editors</th>\n",
       "      <th>Weather</th>\n",
       "      <th>Word</th>\n",
       "    </tr>\n",
       "  </thead>\n",
       "  <tbody>\n",
       "    <tr>\n",
       "      <th>172</th>\n",
       "      <td>Minecraft</td>\n",
       "      <td>FAMILY</td>\n",
       "      <td>4.5</td>\n",
       "      <td>2376564</td>\n",
       "      <td>NaN</td>\n",
       "      <td>10000000</td>\n",
       "      <td>Paid</td>\n",
       "      <td>6.99</td>\n",
       "      <td>Everyone 10+</td>\n",
       "      <td>Arcade</td>\n",
       "      <td>...</td>\n",
       "      <td>0</td>\n",
       "      <td>0</td>\n",
       "      <td>0</td>\n",
       "      <td>0</td>\n",
       "      <td>0</td>\n",
       "      <td>0</td>\n",
       "      <td>0</td>\n",
       "      <td>0</td>\n",
       "      <td>0</td>\n",
       "      <td>0</td>\n",
       "    </tr>\n",
       "    <tr>\n",
       "      <th>660</th>\n",
       "      <td>Hitman Sniper</td>\n",
       "      <td>GAME</td>\n",
       "      <td>4.6</td>\n",
       "      <td>408292</td>\n",
       "      <td>29696.0</td>\n",
       "      <td>10000000</td>\n",
       "      <td>Paid</td>\n",
       "      <td>0.99</td>\n",
       "      <td>Mature 17+</td>\n",
       "      <td>Action</td>\n",
       "      <td>...</td>\n",
       "      <td>0</td>\n",
       "      <td>0</td>\n",
       "      <td>0</td>\n",
       "      <td>0</td>\n",
       "      <td>0</td>\n",
       "      <td>0</td>\n",
       "      <td>0</td>\n",
       "      <td>0</td>\n",
       "      <td>0</td>\n",
       "      <td>0</td>\n",
       "    </tr>\n",
       "    <tr>\n",
       "      <th>730</th>\n",
       "      <td>Grand Theft Auto: San Andreas</td>\n",
       "      <td>GAME</td>\n",
       "      <td>4.4</td>\n",
       "      <td>348962</td>\n",
       "      <td>26624.0</td>\n",
       "      <td>1000000</td>\n",
       "      <td>Paid</td>\n",
       "      <td>6.99</td>\n",
       "      <td>Mature 17+</td>\n",
       "      <td>Action</td>\n",
       "      <td>...</td>\n",
       "      <td>0</td>\n",
       "      <td>0</td>\n",
       "      <td>0</td>\n",
       "      <td>0</td>\n",
       "      <td>0</td>\n",
       "      <td>0</td>\n",
       "      <td>0</td>\n",
       "      <td>0</td>\n",
       "      <td>0</td>\n",
       "      <td>0</td>\n",
       "    </tr>\n",
       "  </tbody>\n",
       "</table>\n",
       "<p>3 rows × 67 columns</p>\n",
       "</div>"
      ],
      "text/plain": [
       "                               App Category  Rating  Reviews  Size (kB)  \\\n",
       "172                      Minecraft   FAMILY     4.5  2376564        NaN   \n",
       "660                  Hitman Sniper     GAME     4.6   408292    29696.0   \n",
       "730  Grand Theft Auto: San Andreas     GAME     4.4   348962    26624.0   \n",
       "\n",
       "     Installs  Type  Price Content Rating  Genres  ... Simulation Social  \\\n",
       "172  10000000  Paid   6.99   Everyone 10+  Arcade  ...          0      0   \n",
       "660  10000000  Paid   0.99     Mature 17+  Action  ...          0      0   \n",
       "730   1000000  Paid   6.99     Mature 17+  Action  ...          0      0   \n",
       "\n",
       "    Sports Strategy  Tools  Travel & Local  Trivia  Video Players & Editors  \\\n",
       "172      0        0      0               0       0                        0   \n",
       "660      0        0      0               0       0                        0   \n",
       "730      0        0      0               0       0                        0   \n",
       "\n",
       "     Weather  Word  \n",
       "172        0     0  \n",
       "660        0     0  \n",
       "730        0     0  \n",
       "\n",
       "[3 rows x 67 columns]"
      ]
     },
     "execution_count": 768,
     "metadata": {},
     "output_type": "execute_result"
    }
   ],
   "source": [
    "price=re.compile(\"[^$]+\")\n",
    "df[\"Price\"]=[float(price.findall(record)[0])for record in df.Price]\n",
    "df.Price.value_counts().head()"
   ]
  },
  {
   "cell_type": "code",
   "execution_count": 805,
   "metadata": {},
   "outputs": [
    {
     "data": {
      "text/plain": [
       "array([       0, 69900000,  9900000,  6990000,  2990000,  1990000,\n",
       "        2490000,  4990000,   990000,   495000,  1495000,  2995000,\n",
       "         449000,  2495000,   499000,  5990000,    99000,   995000,\n",
       "         999000,   299000], dtype=int64)"
      ]
     },
     "execution_count": 805,
     "metadata": {},
     "output_type": "execute_result"
    }
   ],
   "source": [
    "df[\"Income\"]=(df[\"Price\"]*df[\"Installs\"]).apply(int)\n",
    "df.Income.unique()[:20]"
   ]
  },
  {
   "cell_type": "markdown",
   "metadata": {},
   "source": [
    "## Esercizio 12"
   ]
  },
  {
   "cell_type": "markdown",
   "metadata": {},
   "source": [
    "#### For each app, compute its minimum and maximum Sentiment_polarity"
   ]
  },
  {
   "cell_type": "code",
   "execution_count": 806,
   "metadata": {},
   "outputs": [],
   "source": [
    "df2 = pd.read_csv(\"googleplaystore_user_reviews.csv\")"
   ]
  },
  {
   "cell_type": "code",
   "execution_count": 807,
   "metadata": {},
   "outputs": [
    {
     "data": {
      "text/html": [
       "<div>\n",
       "<style scoped>\n",
       "    .dataframe tbody tr th:only-of-type {\n",
       "        vertical-align: middle;\n",
       "    }\n",
       "\n",
       "    .dataframe tbody tr th {\n",
       "        vertical-align: top;\n",
       "    }\n",
       "\n",
       "    .dataframe thead th {\n",
       "        text-align: right;\n",
       "    }\n",
       "</style>\n",
       "<table border=\"1\" class=\"dataframe\">\n",
       "  <thead>\n",
       "    <tr style=\"text-align: right;\">\n",
       "      <th></th>\n",
       "      <th>App</th>\n",
       "      <th>Translated_Review</th>\n",
       "      <th>Sentiment</th>\n",
       "      <th>Sentiment_Polarity</th>\n",
       "      <th>Sentiment_Subjectivity</th>\n",
       "    </tr>\n",
       "  </thead>\n",
       "  <tbody>\n",
       "    <tr>\n",
       "      <th>0</th>\n",
       "      <td>10 Best Foods for You</td>\n",
       "      <td>I like eat delicious food. That's I'm cooking ...</td>\n",
       "      <td>Positive</td>\n",
       "      <td>1.00</td>\n",
       "      <td>0.533333</td>\n",
       "    </tr>\n",
       "    <tr>\n",
       "      <th>1</th>\n",
       "      <td>10 Best Foods for You</td>\n",
       "      <td>This help eating healthy exercise regular basis</td>\n",
       "      <td>Positive</td>\n",
       "      <td>0.25</td>\n",
       "      <td>0.288462</td>\n",
       "    </tr>\n",
       "    <tr>\n",
       "      <th>2</th>\n",
       "      <td>10 Best Foods for You</td>\n",
       "      <td>NaN</td>\n",
       "      <td>NaN</td>\n",
       "      <td>NaN</td>\n",
       "      <td>NaN</td>\n",
       "    </tr>\n",
       "  </tbody>\n",
       "</table>\n",
       "</div>"
      ],
      "text/plain": [
       "                     App                                  Translated_Review  \\\n",
       "0  10 Best Foods for You  I like eat delicious food. That's I'm cooking ...   \n",
       "1  10 Best Foods for You    This help eating healthy exercise regular basis   \n",
       "2  10 Best Foods for You                                                NaN   \n",
       "\n",
       "  Sentiment  Sentiment_Polarity  Sentiment_Subjectivity  \n",
       "0  Positive                1.00                0.533333  \n",
       "1  Positive                0.25                0.288462  \n",
       "2       NaN                 NaN                     NaN  "
      ]
     },
     "execution_count": 807,
     "metadata": {},
     "output_type": "execute_result"
    }
   ],
   "source": [
    "df2.head(3)"
   ]
  },
  {
   "cell_type": "code",
   "execution_count": 808,
   "metadata": {},
   "outputs": [],
   "source": [
    "df2 = df2.dropna()"
   ]
  },
  {
   "cell_type": "code",
   "execution_count": 809,
   "metadata": {},
   "outputs": [],
   "source": [
    "uno=pd.DataFrame(df2.groupby('App').min()['Sentiment_Polarity'])"
   ]
  },
  {
   "cell_type": "code",
   "execution_count": 810,
   "metadata": {},
   "outputs": [],
   "source": [
    "due=pd.DataFrame(df2.groupby('App').max()['Sentiment_Polarity'])"
   ]
  },
  {
   "cell_type": "code",
   "execution_count": 811,
   "metadata": {},
   "outputs": [
    {
     "data": {
      "text/html": [
       "<div>\n",
       "<style scoped>\n",
       "    .dataframe tbody tr th:only-of-type {\n",
       "        vertical-align: middle;\n",
       "    }\n",
       "\n",
       "    .dataframe tbody tr th {\n",
       "        vertical-align: top;\n",
       "    }\n",
       "\n",
       "    .dataframe thead th {\n",
       "        text-align: right;\n",
       "    }\n",
       "</style>\n",
       "<table border=\"1\" class=\"dataframe\">\n",
       "  <thead>\n",
       "    <tr style=\"text-align: right;\">\n",
       "      <th></th>\n",
       "      <th>Sentiment_Polarity_min</th>\n",
       "      <th>Sentiment_Polarity_max</th>\n",
       "    </tr>\n",
       "    <tr>\n",
       "      <th>App</th>\n",
       "      <th></th>\n",
       "      <th></th>\n",
       "    </tr>\n",
       "  </thead>\n",
       "  <tbody>\n",
       "    <tr>\n",
       "      <th>10 Best Foods for You</th>\n",
       "      <td>-0.8000</td>\n",
       "      <td>1.000000</td>\n",
       "    </tr>\n",
       "    <tr>\n",
       "      <th>104 找工作 - 找工作 找打工 找兼職 履歷健檢 履歷診療室</th>\n",
       "      <td>-0.1125</td>\n",
       "      <td>0.910000</td>\n",
       "    </tr>\n",
       "    <tr>\n",
       "      <th>11st</th>\n",
       "      <td>-1.0000</td>\n",
       "      <td>1.000000</td>\n",
       "    </tr>\n",
       "    <tr>\n",
       "      <th>1800 Contacts - Lens Store</th>\n",
       "      <td>-0.3000</td>\n",
       "      <td>0.838542</td>\n",
       "    </tr>\n",
       "    <tr>\n",
       "      <th>1LINE – One Line with One Touch</th>\n",
       "      <td>-0.8250</td>\n",
       "      <td>1.000000</td>\n",
       "    </tr>\n",
       "  </tbody>\n",
       "</table>\n",
       "</div>"
      ],
      "text/plain": [
       "                                  Sentiment_Polarity_min  \\\n",
       "App                                                        \n",
       "10 Best Foods for You                            -0.8000   \n",
       "104 找工作 - 找工作 找打工 找兼職 履歷健檢 履歷診療室                 -0.1125   \n",
       "11st                                             -1.0000   \n",
       "1800 Contacts - Lens Store                       -0.3000   \n",
       "1LINE – One Line with One Touch                  -0.8250   \n",
       "\n",
       "                                  Sentiment_Polarity_max  \n",
       "App                                                       \n",
       "10 Best Foods for You                           1.000000  \n",
       "104 找工作 - 找工作 找打工 找兼職 履歷健檢 履歷診療室                0.910000  \n",
       "11st                                            1.000000  \n",
       "1800 Contacts - Lens Store                      0.838542  \n",
       "1LINE – One Line with One Touch                 1.000000  "
      ]
     },
     "execution_count": 811,
     "metadata": {},
     "output_type": "execute_result"
    }
   ],
   "source": [
    "uno.merge(due,on='App',suffixes=['_min','_max']).head()"
   ]
  }
 ],
 "metadata": {
  "kernelspec": {
   "display_name": "Python 3",
   "language": "python",
   "name": "python3"
  },
  "language_info": {
   "codemirror_mode": {
    "name": "ipython",
    "version": 3
   },
   "file_extension": ".py",
   "mimetype": "text/x-python",
   "name": "python",
   "nbconvert_exporter": "python",
   "pygments_lexer": "ipython3",
   "version": "3.7.3"
  }
 },
 "nbformat": 4,
 "nbformat_minor": 2
}
